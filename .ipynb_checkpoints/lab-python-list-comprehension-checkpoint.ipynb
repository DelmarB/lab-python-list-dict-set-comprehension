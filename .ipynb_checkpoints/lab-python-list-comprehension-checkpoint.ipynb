{
 "cells": [
  {
   "cell_type": "markdown",
   "id": "25d7736c-ba17-4aff-b6bb-66eba20fbf4e",
   "metadata": {},
   "source": [
    "# Lab | List, Dict and Set Comprehension"
   ]
  },
  {
   "cell_type": "markdown",
   "id": "7dd3cbde-675a-4b81-92c3-f728846dbe06",
   "metadata": {},
   "source": [
    "## Exercise: Managing Customer Orders Optimized with Comprehension"
   ]
  },
  {
   "cell_type": "markdown",
   "id": "5d500160-2fb7-4777-b5e4-09d45ebaf328",
   "metadata": {},
   "source": [
    "In the previous exercise, you developed a program to manage customer orders and inventory. Now, let's take it a step further and incorporate comprehension into your code.\n",
    "\n",
    "Follow the steps below to complete the exercise:\n",
    "\n",
    "1. Review your code from the previous exercise and identify areas where you can apply comprehension to simplify and streamline your code. \n",
    "\n",
    "    - *Hint: Apply it to initialize inventory, updating the inventory and printing the updated inventory.*\n",
    "    \n",
    "    - For example, in initializing the inventory, we could have:\n",
    "    \n",
    "        ```python\n",
    "        def initialize_inventory(products):\n",
    "            inventory = {product: int(input(f\"Enter the quantity of {product}s available: \")) for product in products}\n",
    "            return inventory\n",
    "\n",
    "        ```\n",
    "<br>\n",
    "    \n",
    "    \n",
    "2. Modify the function get_customer_orders so it prompts the user to enter the number of customer orders and gathers the product names using a loop and user input. Use comprehension.\n",
    "\n",
    "3. Add a new function to calculate the total price of the customer order. For each product in customer_orders, prompt the user to enter the price of that product. Use comprehension to calculate the total price. Note: assume that the user can only have 1 unit of each product.\n",
    "\n",
    "4. Modify the update_inventory function to remove the product from the inventory if its quantity becomes zero after fulfilling the customer orders. Use comprehension to filter out the products with a quantity of zero from the inventory.\n",
    "\n",
    "5. Print the total price of the customer order.\n",
    "\n",
    "Your code should produce output similar to the following:\n",
    "\n",
    "```python\n",
    "Enter the quantity of t-shirts available:  5\n",
    "Enter the quantity of mugs available:  4\n",
    "Enter the quantity of hats available:  3\n",
    "Enter the quantity of books available:  2\n",
    "Enter the quantity of keychains available:  1\n",
    "Enter the number of customer orders:  2\n",
    "Enter the name of a product that a customer wants to order:  hat\n",
    "Enter the name of a product that a customer wants to order:  keychain\n",
    "\n",
    "Order Statistics:\n",
    "Total Products Ordered: 2\n",
    "Percentage of Unique Products Ordered: 40.0\n",
    "\n",
    "Updated Inventory:\n",
    "t-shirt: 5\n",
    "mug: 4\n",
    "hat: 2\n",
    "book: 2\n",
    "Enter the price of keychain:  5\n",
    "Enter the price of hat:  10\n",
    "Total Price: 15.0\n",
    "\n",
    "```\n"
   ]
  },
  {
   "cell_type": "code",
   "execution_count": 1,
   "id": "50583526-6721-487b-941b-63680ed0cabb",
   "metadata": {
    "scrolled": true
   },
   "outputs": [
    {
     "name": "stdin",
     "output_type": "stream",
     "text": [
      "Add an amount for t-shirt:  5\n",
      "Add an amount for mug:  1\n",
      "Add an amount for hat:  5\n",
      "Add an amount for book:  5\n",
      "Add an amount for keychain:  5\n"
     ]
    },
    {
     "name": "stdout",
     "output_type": "stream",
     "text": [
      "{'t-shirt': 5, 'mug': 1, 'hat': 5, 'book': 5, 'keychain': 5}\n"
     ]
    }
   ],
   "source": [
    "# 1\n",
    "\n",
    "products = [\"t-shirt\", \"mug\", \"hat\", \"book\", \"keychain\"]\n",
    "\n",
    "def initialize_inventory(products, amounts):\n",
    "    inventory = {products[i]: amounts[i] for i in range(len(products))}\n",
    "    return inventory\n",
    "\n",
    "# User enters product amounts\n",
    "amounts = [int(input(f\"Add an amount for {prod}: \")) for prod in products]\n",
    "\n",
    "inventory = initialize_inventory(products, amounts)\n",
    "print(inventory)"
   ]
  },
  {
   "cell_type": "code",
   "execution_count": 2,
   "id": "2e0d034d-7054-46aa-aa2c-fe6543b24683",
   "metadata": {
    "scrolled": true
   },
   "outputs": [
    {
     "name": "stdin",
     "output_type": "stream",
     "text": [
      "Enter the number of products to order:  2\n",
      "Enter product #1 (t-shirt, mug, hat, book or keychain):  mug\n",
      "Enter product #2 (t-shirt, mug, hat, book or keychain):  hat\n"
     ]
    },
    {
     "name": "stdout",
     "output_type": "stream",
     "text": [
      "{'mug', 'hat'}\n"
     ]
    }
   ],
   "source": [
    "#2\n",
    "\n",
    "def get_customer_orders():\n",
    "    # Prompt the user to enter the number of products\n",
    "    num_orders = int(input(\"Enter the number of products to order: \"))\n",
    "    \n",
    "    # Use list comprehension to gather product names\n",
    "    customer_orders = {input(f\"Enter product #{i + 1} (t-shirt, mug, hat, book or keychain): \") for i in range(num_orders)}\n",
    "    \n",
    "    return customer_orders\n",
    "\n",
    "customer_order = get_customer_orders()\n",
    "\n",
    "print(customer_order)"
   ]
  },
  {
   "cell_type": "code",
   "execution_count": 3,
   "id": "5aad2833-746f-46cf-a353-9cce95cd3047",
   "metadata": {
    "scrolled": true
   },
   "outputs": [
    {
     "name": "stdin",
     "output_type": "stream",
     "text": [
      "Enter price for mug:  2.99\n",
      "Enter price for hat:  31.99\n"
     ]
    }
   ],
   "source": [
    "#3\n",
    "def product_prices():\n",
    "    prod_and_prices = {}\n",
    "    #prompt for prices as per customer_order\n",
    "    for product in customer_order:\n",
    "        price = float(input(f\"Enter price for {product}: \"))\n",
    "        prod_and_prices[product] = price\n",
    "        total = sum(prod_and_prices.values())\n",
    "    return total\n",
    "total = product_prices()\n",
    "#print(f\"€{product_prices():.2f}\")\n",
    "\n"
   ]
  },
  {
   "cell_type": "code",
   "execution_count": 4,
   "id": "4d0886ce-5c21-48da-b7d7-9ce57228c82c",
   "metadata": {},
   "outputs": [
    {
     "name": "stdout",
     "output_type": "stream",
     "text": [
      "{'t-shirt': 5, 'hat': 4, 'book': 5, 'keychain': 5}\n"
     ]
    }
   ],
   "source": [
    "#\n",
    "def update_inventory():\n",
    "    new_inventory = {\n",
    "        prod: (inventory[prod] - 1) if prod in customer_order else inventory[prod]\n",
    "        for prod in inventory\n",
    "        if prod not in customer_order or (inventory[prod] - 1) > 0\n",
    "    }\n",
    "    return new_inventory\n",
    "\n",
    "#print(update_inventory())"
   ]
  },
  {
   "cell_type": "code",
   "execution_count": 5,
   "id": "7198f458-fbb0-40f3-94dd-bdbc22f4bcef",
   "metadata": {},
   "outputs": [],
   "source": [
    "#4\n",
    "def calculate_order_statistics():\n",
    "    Total_Products_ordered = len(customer_order)\n",
    "    Percentage_of_Products_Ordered = (Total_Products_ordered / 5) * 100\n",
    "    order_status = (Total_Products_ordered, Percentage_of_Products_Ordered)\n",
    "    return order_status\n",
    "new_statistics = calculate_order_statistics()\n",
    "#print(new_statistics)"
   ]
  },
  {
   "cell_type": "code",
   "execution_count": 6,
   "id": "c7eace8e-4a0d-4d8d-af1c-44cdb6cf93d3",
   "metadata": {
    "scrolled": true
   },
   "outputs": [
    {
     "name": "stdout",
     "output_type": "stream",
     "text": [
      "Orders Statistics:\n",
      "Total Products Ordered: 2\n",
      "Percentage of Products Ordered: 40.0 %\n"
     ]
    }
   ],
   "source": [
    "#5\n",
    "def print_order_statistics():\n",
    "    print(\"Orders Statistics:\")\n",
    "    print(f\"Total Products Ordered: {new_statistics[0]}\")\n",
    "    print(f\"Percentage of Products Ordered: {new_statistics[1]} %\")\n",
    "print_order_statistics()\n"
   ]
  },
  {
   "cell_type": "code",
   "execution_count": 10,
   "id": "1c665492-77ab-47d0-8ada-cdabb1639680",
   "metadata": {
    "scrolled": true
   },
   "outputs": [
    {
     "name": "stdout",
     "output_type": "stream",
     "text": [
      "Updated inventory\n",
      "t-shirt: 5\n",
      "hat: 4\n",
      "book: 5\n",
      "keychain: 5\n"
     ]
    }
   ],
   "source": [
    "#6\n",
    "def print_updated_inventory():\n",
    "    for key, value in update_inventory().items():\n",
    "        print(f\"{key}: {value}\")\n",
    "print(\"Updated inventory\")\n",
    "print_updated_inventory()"
   ]
  },
  {
   "cell_type": "code",
   "execution_count": 9,
   "id": "cf5edee9-6042-4ffc-a338-3c280561796e",
   "metadata": {},
   "outputs": [
    {
     "name": "stdout",
     "output_type": "stream",
     "text": [
      "Total price: €34.98\n"
     ]
    }
   ],
   "source": [
    "print(f\"Total price: €{total:.2f}\")"
   ]
  },
  {
   "cell_type": "code",
   "execution_count": null,
   "id": "a760a227-69aa-4e30-a238-e57d5c2ef67b",
   "metadata": {},
   "outputs": [],
   "source": [
    "\n"
   ]
  }
 ],
 "metadata": {
  "kernelspec": {
   "display_name": "Python 3 (ipykernel)",
   "language": "python",
   "name": "python3"
  },
  "language_info": {
   "codemirror_mode": {
    "name": "ipython",
    "version": 3
   },
   "file_extension": ".py",
   "mimetype": "text/x-python",
   "name": "python",
   "nbconvert_exporter": "python",
   "pygments_lexer": "ipython3",
   "version": "3.12.7"
  }
 },
 "nbformat": 4,
 "nbformat_minor": 5
}
